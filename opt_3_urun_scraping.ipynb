{
 "cells": [
  {
   "cell_type": "code",
   "execution_count": 3,
   "id": "936f1311-6c94-49f5-80ff-7974ac135bb1",
   "metadata": {},
   "outputs": [
    {
     "name": "stdout",
     "output_type": "stream",
     "text": [
      "Ürün bulunamadı veya hata oluştu: Gliss Serum Deep Repair Saç Kremi 360 ml\n"
     ]
    },
    {
     "ename": "NoSuchWindowException",
     "evalue": "Message: no such window: target window already closed\nfrom unknown error: web view not found\n  (Session info: chrome=130.0.6723.92)\nStacktrace:\n\tGetHandleVerifier [0x01113913+24035]\n\t(No symbol) [0x0109BCA4]\n\t(No symbol) [0x00F7C2D3]\n\t(No symbol) [0x00F5E00B]\n\t(No symbol) [0x00FE5F4F]\n\t(No symbol) [0x00FF8E99]\n\t(No symbol) [0x00FDFC26]\n\t(No symbol) [0x00FB218C]\n\t(No symbol) [0x00FB310D]\n\tGetHandleVerifier [0x013B9743+2800659]\n\tGetHandleVerifier [0x014142FE+3172302]\n\tGetHandleVerifier [0x0140CF12+3142626]\n\tGetHandleVerifier [0x011B6CC0+692624]\n\t(No symbol) [0x010A4CBD]\n\t(No symbol) [0x010A19C8]\n\t(No symbol) [0x010A1B60]\n\t(No symbol) [0x01094010]\n\tBaseThreadInitThunk [0x759F7BA9+25]\n\tRtlInitializeExceptionChain [0x7717C0CB+107]\n\tRtlClearBits [0x7717C04F+191]\n",
     "output_type": "error",
     "traceback": [
      "\u001b[1;31m---------------------------------------------------------------------------\u001b[0m",
      "\u001b[1;31mNoSuchWindowException\u001b[0m                     Traceback (most recent call last)",
      "Cell \u001b[1;32mIn[3], line 29\u001b[0m\n\u001b[0;32m     27\u001b[0m \u001b[38;5;66;03m# Arama URL'sini oluştur\u001b[39;00m\n\u001b[0;32m     28\u001b[0m search_url \u001b[38;5;241m=\u001b[39m \u001b[38;5;124mf\u001b[39m\u001b[38;5;124m\"\u001b[39m\u001b[38;5;124mhttps://www.trendyol.com/sr?q=\u001b[39m\u001b[38;5;132;01m{\u001b[39;00murllib\u001b[38;5;241m.\u001b[39mparse\u001b[38;5;241m.\u001b[39mquote(product_title)\u001b[38;5;132;01m}\u001b[39;00m\u001b[38;5;124m\"\u001b[39m\n\u001b[1;32m---> 29\u001b[0m driver\u001b[38;5;241m.\u001b[39mget(search_url)\n\u001b[0;32m     31\u001b[0m \u001b[38;5;66;03m# Sayfanın yüklenmesi için rastgele bekleme süresi (2 ila 5 saniye arasında)\u001b[39;00m\n\u001b[0;32m     32\u001b[0m time\u001b[38;5;241m.\u001b[39msleep(random\u001b[38;5;241m.\u001b[39muniform(\u001b[38;5;241m2\u001b[39m, \u001b[38;5;241m5\u001b[39m))\n",
      "File \u001b[1;32mD:\\Anaconda\\Lib\\site-packages\\selenium\\webdriver\\remote\\webdriver.py:389\u001b[0m, in \u001b[0;36mWebDriver.get\u001b[1;34m(self, url)\u001b[0m\n\u001b[0;32m    387\u001b[0m \u001b[38;5;28;01mdef\u001b[39;00m \u001b[38;5;21mget\u001b[39m(\u001b[38;5;28mself\u001b[39m, url: \u001b[38;5;28mstr\u001b[39m) \u001b[38;5;241m-\u001b[39m\u001b[38;5;241m>\u001b[39m \u001b[38;5;28;01mNone\u001b[39;00m:\n\u001b[0;32m    388\u001b[0m \u001b[38;5;250m    \u001b[39m\u001b[38;5;124;03m\"\"\"Loads a web page in the current browser session.\"\"\"\u001b[39;00m\n\u001b[1;32m--> 389\u001b[0m     \u001b[38;5;28mself\u001b[39m\u001b[38;5;241m.\u001b[39mexecute(Command\u001b[38;5;241m.\u001b[39mGET, {\u001b[38;5;124m\"\u001b[39m\u001b[38;5;124murl\u001b[39m\u001b[38;5;124m\"\u001b[39m: url})\n",
      "File \u001b[1;32mD:\\Anaconda\\Lib\\site-packages\\selenium\\webdriver\\remote\\webdriver.py:380\u001b[0m, in \u001b[0;36mWebDriver.execute\u001b[1;34m(self, driver_command, params)\u001b[0m\n\u001b[0;32m    378\u001b[0m response \u001b[38;5;241m=\u001b[39m \u001b[38;5;28mself\u001b[39m\u001b[38;5;241m.\u001b[39mcommand_executor\u001b[38;5;241m.\u001b[39mexecute(driver_command, params)\n\u001b[0;32m    379\u001b[0m \u001b[38;5;28;01mif\u001b[39;00m response:\n\u001b[1;32m--> 380\u001b[0m     \u001b[38;5;28mself\u001b[39m\u001b[38;5;241m.\u001b[39merror_handler\u001b[38;5;241m.\u001b[39mcheck_response(response)\n\u001b[0;32m    381\u001b[0m     response[\u001b[38;5;124m\"\u001b[39m\u001b[38;5;124mvalue\u001b[39m\u001b[38;5;124m\"\u001b[39m] \u001b[38;5;241m=\u001b[39m \u001b[38;5;28mself\u001b[39m\u001b[38;5;241m.\u001b[39m_unwrap_value(response\u001b[38;5;241m.\u001b[39mget(\u001b[38;5;124m\"\u001b[39m\u001b[38;5;124mvalue\u001b[39m\u001b[38;5;124m\"\u001b[39m, \u001b[38;5;28;01mNone\u001b[39;00m))\n\u001b[0;32m    382\u001b[0m     \u001b[38;5;28;01mreturn\u001b[39;00m response\n",
      "File \u001b[1;32mD:\\Anaconda\\Lib\\site-packages\\selenium\\webdriver\\remote\\errorhandler.py:229\u001b[0m, in \u001b[0;36mErrorHandler.check_response\u001b[1;34m(self, response)\u001b[0m\n\u001b[0;32m    227\u001b[0m         alert_text \u001b[38;5;241m=\u001b[39m value[\u001b[38;5;124m\"\u001b[39m\u001b[38;5;124malert\u001b[39m\u001b[38;5;124m\"\u001b[39m]\u001b[38;5;241m.\u001b[39mget(\u001b[38;5;124m\"\u001b[39m\u001b[38;5;124mtext\u001b[39m\u001b[38;5;124m\"\u001b[39m)\n\u001b[0;32m    228\u001b[0m     \u001b[38;5;28;01mraise\u001b[39;00m exception_class(message, screen, stacktrace, alert_text)  \u001b[38;5;66;03m# type: ignore[call-arg]  # mypy is not smart enough here\u001b[39;00m\n\u001b[1;32m--> 229\u001b[0m \u001b[38;5;28;01mraise\u001b[39;00m exception_class(message, screen, stacktrace)\n",
      "\u001b[1;31mNoSuchWindowException\u001b[0m: Message: no such window: target window already closed\nfrom unknown error: web view not found\n  (Session info: chrome=130.0.6723.92)\nStacktrace:\n\tGetHandleVerifier [0x01113913+24035]\n\t(No symbol) [0x0109BCA4]\n\t(No symbol) [0x00F7C2D3]\n\t(No symbol) [0x00F5E00B]\n\t(No symbol) [0x00FE5F4F]\n\t(No symbol) [0x00FF8E99]\n\t(No symbol) [0x00FDFC26]\n\t(No symbol) [0x00FB218C]\n\t(No symbol) [0x00FB310D]\n\tGetHandleVerifier [0x013B9743+2800659]\n\tGetHandleVerifier [0x014142FE+3172302]\n\tGetHandleVerifier [0x0140CF12+3142626]\n\tGetHandleVerifier [0x011B6CC0+692624]\n\t(No symbol) [0x010A4CBD]\n\t(No symbol) [0x010A19C8]\n\t(No symbol) [0x010A1B60]\n\t(No symbol) [0x01094010]\n\tBaseThreadInitThunk [0x759F7BA9+25]\n\tRtlInitializeExceptionChain [0x7717C0CB+107]\n\tRtlClearBits [0x7717C04F+191]\n"
     ]
    }
   ],
   "source": [
    "import pandas as pd\n",
    "from selenium import webdriver\n",
    "from selenium.webdriver.common.by import By\n",
    "from selenium.webdriver.chrome.service import Service\n",
    "import time\n",
    "import random\n",
    "from selenium.webdriver.common.action_chains import ActionChains\n",
    "from webdriver_manager.chrome import ChromeDriverManager\n",
    "import urllib.parse\n",
    "\n",
    "# Excel dosyasını yükleyelim\n",
    "df = pd.read_excel(\"matchh.xlsx\")\n",
    "\n",
    "# ChromeDriver kurulumunu başlatalım\n",
    "service = Service(ChromeDriverManager().install())\n",
    "driver = webdriver.Chrome(service=service)\n",
    "\n",
    "# Ürün bağlantılarını saklayacak yeni sütunlar oluşturalım\n",
    "df[\"Trendyol_Link_1\"] = None\n",
    "df[\"Trendyol_Link_2\"] = None\n",
    "df[\"Trendyol_Link_3\"] = None\n",
    "\n",
    "# Her bir başlık için arama yapacağız\n",
    "for index, row in df.iterrows():\n",
    "    product_title = row['Ürün İsmi']\n",
    "    \n",
    "    # Arama URL'sini oluştur\n",
    "    search_url = f\"https://www.trendyol.com/sr?q={urllib.parse.quote(product_title)}\"\n",
    "    driver.get(search_url)\n",
    "    \n",
    "    # Sayfanın yüklenmesi için rastgele bekleme süresi (2 ila 5 saniye arasında)\n",
    "    time.sleep(random.uniform(2, 5))\n",
    "    \n",
    "    try:\n",
    "        # Sayfada aşağı kaydırma işlemi\n",
    "        scroll_count = random.randint(1, 3)  # Rastgele sayıda kaydırma (1 ila 3 arasında)\n",
    "        for _ in range(scroll_count):\n",
    "            driver.execute_script(\"window.scrollBy(0, 500);\")  # 500 piksel aşağı kaydır\n",
    "            time.sleep(random.uniform(1, 3))  # Kaydırmalar arasında da rastgele bekleme\n",
    "        \n",
    "        # İlk üç sonucu bul ve bağlantıları al\n",
    "        results = driver.find_elements(By.CSS_SELECTOR, \".prdct-cntnr-wrppr .p-card-wrppr a\")[:3]\n",
    "        \n",
    "        # İlk üç bağlantıyı DataFrame'e ekleyelim\n",
    "        for i, result in enumerate(results):\n",
    "            product_link = result.get_attribute(\"href\")\n",
    "            df.at[index, f\"Trendyol_Link_{i+1}\"] = product_link\n",
    "\n",
    "    except Exception as e:\n",
    "        print(f\"Ürün bulunamadı veya hata oluştu: {product_title}\")\n",
    "        df.at[index, \"Trendyol_Link_1\"] = \"Link bulunamadı\"\n",
    "        df.at[index, \"Trendyol_Link_2\"] = \"Link bulunamadı\"\n",
    "        df.at[index, \"Trendyol_Link_3\"] = \"Link bulunamadı\"\n",
    "    \n",
    "    # Her arama arasında rastgele bekleme süresi (3 ila 6 saniye arasında)\n",
    "    time.sleep(random.uniform(3, 6))\n",
    "\n",
    "# Tarayıcıyı kapatalım\n",
    "driver.quit()\n",
    "\n",
    "# Sonucu yeni dosyaya kaydedelim\n",
    "output_file_path = \"matchh.xlsx\"  # Kayıt yeri olarak betiğin olduğu dizini kullanır\n",
    "df.to_excel(output_file_path, index=False)\n",
    "\n",
    "print(f\"Tamamlandı! Dosya kaydedildi: {output_file_path}\")\n"
   ]
  }
 ],
 "metadata": {
  "kernelspec": {
   "display_name": "Python 3 (ipykernel)",
   "language": "python",
   "name": "python3"
  },
  "language_info": {
   "codemirror_mode": {
    "name": "ipython",
    "version": 3
   },
   "file_extension": ".py",
   "mimetype": "text/x-python",
   "name": "python",
   "nbconvert_exporter": "python",
   "pygments_lexer": "ipython3",
   "version": "3.12.4"
  }
 },
 "nbformat": 4,
 "nbformat_minor": 5
}
